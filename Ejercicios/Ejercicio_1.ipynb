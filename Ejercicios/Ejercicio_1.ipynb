{
 "cells": [
  {
   "cell_type": "markdown",
   "metadata": {},
   "source": [
    "# Ejercicio 1"
   ]
  },
  {
   "cell_type": "markdown",
   "metadata": {},
   "source": [
    "Primero realizaremos un arbol de profundidad, sin ponerle limite."
   ]
  },
  {
   "cell_type": "markdown",
   "metadata": {},
   "source": [
    "* C={i} F={A,B}\n",
    "* C={i,B} F={A,C,D}\n",
    "* C={i,B,D} F={A,C}\n",
    "* C={i,B,D,C} F={A,E}\n",
    "* C={i,B,D,C,E} F={A,F,G}\n",
    "* C={i,B,D,C,E,G} F={A,F,H}\n",
    "* C={i,B,D,C,E,G,H} F={A,F,I}\n",
    "* C={i,B,D,C,E,G,H,I} F={A,F,J}\n",
    "* C={i,B,D,C,E,G,H,I,J} F={A,F,K,L}\n",
    "* C={i,B,D,C,E,G,H,I,J,L} F={A,F,K,M}\n",
    "* C={i,B,D,C,E,G,H,I,J,L,M} F={A,F,K,N,e}\n",
    "\n",
    "* Test(e) == e\n",
    "* i-> B-> C-> E-> G-> H-> I-> J-> L-> M-> e  **Solución** "
   ]
  },
  {
   "cell_type": "markdown",
   "metadata": {},
   "source": [
    "![\"Arbol de decisiones 1\"](./Arbol_1.png)"
   ]
  },
  {
   "cell_type": "markdown",
   "metadata": {},
   "source": [
    "A continuación realizaremos un busqueda poniendole una profundidad maxima de 5, lo que significa, terminar en el Nodo H y empezar de nuevo por el resto de nodos sin explorar."
   ]
  },
  {
   "cell_type": "markdown",
   "metadata": {},
   "source": [
    "* C={i,B,D,C,E,G,H} F={A,E}\n",
    "* C={i,B,D,C,E,G,H} F={A,F,G}\n",
    "* C={i,B,D,C,E,G,H} F={A,F,H}\n",
    "* C={i,B,D,C,E,G,H} F={A,F,I}\n",
    "* C={i,B,D,C,E,G,H} F={A,F,J}\n",
    "* C={i,B,D,C,E,G,H} F={A,F,K,L}\n",
    "* C={i,B,D,C,E,G,H} F={A,F,K,M}\n",
    "* C={i,B,D,C,E,G,H,I,J,L,M} F={A,F,K,N,e}"
   ]
  }
 ],
 "metadata": {
  "language_info": {
   "name": "python"
  }
 },
 "nbformat": 4,
 "nbformat_minor": 2
}
